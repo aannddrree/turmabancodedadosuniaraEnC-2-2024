{
  "nbformat": 4,
  "nbformat_minor": 0,
  "metadata": {
    "colab": {
      "provenance": [],
      "authorship_tag": "ABX9TyOJB3ZNnBHdKgtmxYP46XdM",
      "include_colab_link": true
    },
    "kernelspec": {
      "name": "python3",
      "display_name": "Python 3"
    },
    "language_info": {
      "name": "python"
    }
  },
  "cells": [
    {
      "cell_type": "markdown",
      "metadata": {
        "id": "view-in-github",
        "colab_type": "text"
      },
      "source": [
        "<a href=\"https://colab.research.google.com/github/aannddrree/turmabancodedadosuniaraEnC-2-2024/blob/main/HelloWorldWriteFileUsingPython.ipynb\" target=\"_parent\"><img src=\"https://colab.research.google.com/assets/colab-badge.svg\" alt=\"Open In Colab\"/></a>"
      ]
    },
    {
      "cell_type": "code",
      "execution_count": 1,
      "metadata": {
        "colab": {
          "base_uri": "https://localhost:8080/"
        },
        "id": "pDcsZv8rxuI7",
        "outputId": "b0c77672-ab26-4e47-9fdd-7939f652ee58"
      },
      "outputs": [
        {
          "output_type": "stream",
          "name": "stdout",
          "text": [
            "olá tudo bem com vocês?\n"
          ]
        }
      ],
      "source": [
        "print(\"olá tudo bem com vocês?\")"
      ]
    },
    {
      "cell_type": "code",
      "source": [
        "# Criar o nome do arquivo\n",
        "arquivo = \"UniaraEnC19082024.txt\"\n",
        "\n",
        "#abrir o arquivo e inserir um linha\n",
        "with open(arquivo, 'w') as f:\n",
        "    f.write(\"É isso ai!!\\n\")\n",
        "    f.write(\"2 linha do meu arquivo\")\n",
        "\n",
        "#acabou era só isso!\n",
        "print(\"Fim!! Arquivo gerado!\")"
      ],
      "metadata": {
        "colab": {
          "base_uri": "https://localhost:8080/"
        },
        "id": "ag1TZn3vyvd6",
        "outputId": "04e31d80-383b-4d80-a441-a013652f04e9"
      },
      "execution_count": 3,
      "outputs": [
        {
          "output_type": "stream",
          "name": "stdout",
          "text": [
            "Fim!! Arquivo gerado!\n"
          ]
        }
      ]
    },
    {
      "cell_type": "code",
      "source": [
        "# Criar o nome do arquivo\n",
        "arquivo = \"arquivo2.txt\"\n",
        "\n",
        "contador = 0\n",
        "\n",
        "#abrir o arquivo e inserir um linha\n",
        "with open(arquivo, 'w') as f:\n",
        "    while (contador < 10):\n",
        "        f.write(f\"Contador é {contador}\\n\")\n",
        "        contador += 1\n",
        "\n",
        "#acabou era só isso!\n",
        "print(\"Fim!! Arquivo gerado!\")"
      ],
      "metadata": {
        "colab": {
          "base_uri": "https://localhost:8080/"
        },
        "id": "N4678ONW3yHR",
        "outputId": "744f9f0d-5777-40c1-fc9f-b9f6d9d7b582"
      },
      "execution_count": 6,
      "outputs": [
        {
          "output_type": "stream",
          "name": "stdout",
          "text": [
            "Fim!! Arquivo gerado!\n"
          ]
        }
      ]
    }
  ]
}